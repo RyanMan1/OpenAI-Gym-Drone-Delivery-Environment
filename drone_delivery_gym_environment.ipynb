{
 "cells": [
  {
   "cell_type": "markdown",
   "metadata": {},
   "source": [
    "# Drone Gym Environment and DQN Demo\n",
    "## DM996 Group C, University of Strathclyde, 25/03/2021\n",
    "\n",
    "This environment is compatible with OpenAI Gym and allows you to control a drone in a randomly generated city environment (or a custom one - example included). The drone has a destination and must avoid obstacles such as buildings or other drones."
   ]
  },
  {
   "cell_type": "markdown",
   "metadata": {},
   "source": [
    " The following cells should be uncommented if using Google Colab:"
   ]
  },
  {
   "cell_type": "code",
   "execution_count": 2,
   "metadata": {
    "colab": {
     "base_uri": "https://localhost:8080/"
    },
    "id": "rh89CG7HfwJ9",
    "outputId": "ca85c538-5f79-4b02-e91e-32934f8a4059"
   },
   "outputs": [],
   "source": [
    "# pip install Box2D"
   ]
  },
  {
   "cell_type": "code",
   "execution_count": 3,
   "metadata": {
    "id": "TpbF65Regoa7"
   },
   "outputs": [],
   "source": [
    "# !pip install gym pyvirtualdisplay > /dev/null 2>&1\n",
    "# !apt-get install -y xvfb python-opengl ffmpeg > /dev/null 2>&1"
   ]
  },
  {
   "cell_type": "code",
   "execution_count": 4,
   "metadata": {
    "colab": {
     "base_uri": "https://localhost:8080/"
    },
    "id": "hAAw1CV3goky",
    "outputId": "83084695-5ab4-42a0-b9f9-bd36d032a29e"
   },
   "outputs": [],
   "source": [
    "# from pyvirtualdisplay import Display\n",
    "# display = Display(visible=False, size=(1000, 900))\n",
    "# display.start()"
   ]
  },
  {
   "cell_type": "code",
   "execution_count": 5,
   "metadata": {
    "colab": {
     "base_uri": "https://localhost:8080/"
    },
    "id": "5Nc473e5gwHv",
    "outputId": "ee9b1448-3484-4e5e-81d8-218c65279829"
   },
   "outputs": [],
   "source": [
    "# !echo $DISPLAY"
   ]
  },
  {
   "cell_type": "code",
   "execution_count": 6,
   "metadata": {
    "id": "HuZFNsT9g1M9"
   },
   "outputs": [],
   "source": [
    "# # general libraris\n",
    "# import numpy as np\n",
    "# import math\n",
    "# import random\n",
    "# import time\n",
    "\n",
    "# # box2D import libraries\n",
    "# import Box2D\n",
    "# from Box2D.b2 import fixtureDef\n",
    "# from Box2D.b2 import polygonShape\n",
    "# from Box2D.b2 import circleShape\n",
    "# from Box2D.b2 import contactListener\n",
    "\n",
    "# # OpenAI Gym import\n",
    "# import gym\n",
    "# from gym import error, spaces, utils\n",
    "# from gym.utils import seeding\n",
    "\n",
    "# # pyglet used for interacting with viewer window\n",
    "# import pyglet\n",
    "# #from pyglet.gl import *\n",
    "# #import pyglet.gl\n",
    "\n",
    "# # gym wrapper for creating environment visualiser\n",
    "# #from gym.envs.classic_control import rendering\n",
    "# import rendering\n",
    "\n",
    "# from gym import spaces\n",
    "\n",
    "# import matplotlib.pyplot as plt\n",
    "\n",
    "# import pandas as pd\n"
   ]
  },
  {
   "cell_type": "markdown",
   "metadata": {},
   "source": [
    "Comment this cell if using Google Colab:"
   ]
  },
  {
   "cell_type": "code",
   "execution_count": 1,
   "metadata": {
    "id": "V7-NOjuYgmiH"
   },
   "outputs": [],
   "source": [
    "# general libraris\n",
    "import numpy as np\n",
    "import math\n",
    "import random\n",
    "import time\n",
    "\n",
    "# box2D import libraries\n",
    "import Box2D\n",
    "from Box2D.b2 import fixtureDef\n",
    "from Box2D.b2 import polygonShape\n",
    "from Box2D.b2 import circleShape\n",
    "from Box2D.b2 import contactListener\n",
    "\n",
    "# OpenAI Gym import\n",
    "import gym\n",
    "from gym import error, spaces, utils\n",
    "from gym.utils import seeding\n",
    "\n",
    "# pyglet used for interacting with viewer window\n",
    "import pyglet\n",
    "\n",
    "# gym wrapper for creating environment visualiser\n",
    "from gym.envs.classic_control import rendering\n",
    "\n",
    "from gym import spaces\n",
    "\n",
    "import matplotlib.pyplot as plt\n",
    "\n",
    "import pandas as pd\n"
   ]
  },
  {
   "cell_type": "code",
   "execution_count": 2,
   "metadata": {
    "id": "8AeKlNdVfwKB"
   },
   "outputs": [],
   "source": [
    "# size of observable area from drone - square\n",
    "OBSRV_WIDTH = 85\n",
    "OBSRV_HEIGHT = OBSRV_WIDTH\n",
    "OBSRV_AREA = OBSRV_WIDTH * OBSRV_HEIGHT\n",
    "\n",
    "# define default shape for a drone\n",
    "DRONE_SHAPE = [(0,0),(5,0),(5,5),(0,5)]\n",
    "\n",
    "REPOSITION_ROAD_WINDOW_SIZE = 11 # FOR INITIAL DRONE/DESTINATION RE-POSITIONING - drone needs a REPOSITION_ROAD_WINDOW_SIZExREPOSITION_ROAD_WINDOW_SIZE window of clearance from any buildings\n",
    "\n",
    "# define frames per second (fps) values\n",
    "FPS = 1\n",
    "\n",
    "# viewer window size\n",
    "FRAME_WIDTH = 640\n",
    "FRAME_HEIGHT = 480\n",
    "\n",
    "class ContactDetector(contactListener):\n",
    "    def __init__(self, env):\n",
    "        contactListener.__init__(self)\n",
    "        self.env = env\n",
    "\n",
    "    def BeginContact(self, contact):\n",
    "        if self.env.drones[0].dynamic_body == contact.fixtureA.body or self.env.drones[0].dynamic_body == contact.fixtureB.body:\n",
    "            self.env.drone_contact = True\n",
    "\n",
    "\n",
    "class Drone():\n",
    "    def __init__(self):\n",
    "        # drone initial position as 2D coordinates\n",
    "        self.drone_position = None\n",
    "        self.drone_position_prev = None\n",
    "        # current drone position as 2D coordinates\n",
    "        self.drone_position_init = None\n",
    "        # observations (2D image) for drone\n",
    "        self.drone_observation = None\n",
    "        # distance observation (float) of drone from destination\n",
    "        self.drone_distance_observation = None\n",
    "        \n",
    "        # drone object in box2d\n",
    "        self.dynamic_body = None\n",
    "        \n",
    "    def drone_step(self, action):\n",
    "        # in this function, we update the position of the drone in box2D\n",
    "        # apply a force to drone to update the position\n",
    "        \n",
    "        # using discrete action space  \n",
    "        discrete_actions = {0:(0,0), 1:(0,1), 2:(0.707,0.707), 3:(1,0), 4:(0.707,-0.707), 5:(0,-1),\n",
    "                            6:(-0.707,-0.707), 7:(-1,0), 8:(-0.707,0.707)}\n",
    "        \n",
    "        horizontal_force = discrete_actions[action][0]\n",
    "        vertical_force = discrete_actions[action][1]\n",
    "        \n",
    "        if(action == 0):\n",
    "            self.dynamic_body.LinearVelocity = (0,0)\n",
    "        \n",
    "        self.dynamic_body.ApplyForceToCenter((horizontal_force,vertical_force),True)\n",
    "        \n",
    "    def update_position(self):\n",
    "        # get position for this drone and save\n",
    "        self.drone_position_prev = (self.drone_position[0],self.drone_position[1])\n",
    "        self.drone_position = (self.dynamic_body.position[0],self.dynamic_body.position[1])\n",
    "        \n",
    "        self.drone_position = (round(self.drone_position[0]),round(self.drone_position[1]))\n",
    "        \n",
    "        self.dynamic_body_position = self.drone_position\n",
    "        \n",
    "class DroneEnv(gym.Env):\n",
    "    #metadata = {'render.modes': ['human']}\n",
    "    def __init__(self):\n",
    "        ### PARAMETERS ###\n",
    "        # random city generator parameters\n",
    "        self.ROAD_WIDTH_INIT = 15\n",
    "        self.ROAD_WIDTH_TOLERANCE = 3\n",
    "        self.BUILDING_WIDTH_INIT = 50\n",
    "        self.BUILDING_WIDTH_TOLERANCE = 7\n",
    "        self.BUILDING_HEIGHT_INIT = 50\n",
    "        self.BUILDING_HEIGHT_TOLERANCE = 7\n",
    "                \n",
    "        # drone parameters\n",
    "        self.NO_DRONES = 5\n",
    "        \n",
    "        self.DRONE_START_POSITION = (10,10)\n",
    "        self.DRONE_DESTINATION = (400,300)\n",
    "        \n",
    "        self.OBSCURE_DRONE_OBSRV = 0\n",
    "        \n",
    "        self.STRATHY = 0\n",
    "\n",
    "        ### ENVIRONMENT OBJECTS ###\n",
    "        # list of building vertices\n",
    "        self.buildings = []\n",
    "        self.parks = []\n",
    "        \n",
    "        # list of destination coordinates\n",
    "        self.destination_box = []\n",
    "        \n",
    "        # list of drone objects\n",
    "        self.drones = []\n",
    "                \n",
    "        self.done = False\n",
    "        self.drone_contact = False\n",
    "        self.reward = 0.0\n",
    "        self.prev_reward = 0.0\n",
    "        self.step_reward = 0.0\n",
    "        \n",
    "        self.d250 = False\n",
    "        self.d200 = False\n",
    "        self.d150 = False\n",
    "        self.d100 = False\n",
    "        self.d50 = False\n",
    "        \n",
    "        ### BOX2D OBJECTS ###\n",
    "        # box2d world\n",
    "        self.world = Box2D.b2World((0, 0))\n",
    "        # static bodies (buildings) in box2d world\n",
    "        self.static_bodies = []\n",
    "        \n",
    "        self.world.contactListener = ContactDetector(self)\n",
    "        \n",
    "        ### VIEWER OBJECTS ###\n",
    "        # define \"Viewer\" object and set width and height of window\n",
    "        self.viewer = None\n",
    "        self.viewer = rendering.Viewer(FRAME_WIDTH, FRAME_HEIGHT)\n",
    "        self.drone_shape_viewer = None\n",
    "        \n",
    "        # set to zero when viewer has been closed and indicates we need to set up the buildings and initial drone positions\n",
    "        self.render_init = 0\n",
    "        \n",
    "        # Action and observation spaces\n",
    "        self.action_space = spaces.Box(\n",
    "            np.array([-1.0, -1.0]), np.array([+1.0, +1.0]), dtype=np.float32\n",
    "        )  # horiz force, vertical force\n",
    "\n",
    "        # 0 - no force, 1 - 'north-east' force, 2 - 'north' force, ...\n",
    "        self.action_space = spaces.Discrete(9)\n",
    "        \n",
    "        self.observation_space = spaces.Box(\n",
    "            low=0, high=255, shape=(OBSRV_HEIGHT*OBSRV_WIDTH+1, 1), dtype=np.uint8\n",
    "        )\n",
    "\n",
    "        \n",
    "    def initialise_environment(self):\n",
    "        \n",
    "        ### INITILIASE ENVIRONMENT ###\n",
    "        self.create_buildings()\n",
    "        self.render_init_city()\n",
    "        self.create_destination()\n",
    "        self.create_drones()\n",
    "        self.render_init_drones()\n",
    "        self.create_box2d_world()  \n",
    "        self.render_init = 1\n",
    "        \n",
    "    def create_buildings(self):\n",
    "        \n",
    "        if(self.STRATHY == 1):\n",
    "            # STRATHCLYDE BUILDING DEFINITIONS FOR 'FINAL DEMO'\n",
    "            buildings_csv = pd.read_csv(\"Building_Data_CSV.csv\")\n",
    "\n",
    "            building = []\n",
    "\n",
    "            building_names = buildings_csv['Building']\n",
    "\n",
    "            x_coordinates = buildings_csv['X']\n",
    "            y_coordinates = buildings_csv['Y']\n",
    "\n",
    "            current_building = building_names[0]\n",
    "\n",
    "            for i in range(len(x_coordinates)):\n",
    "                vertex_index = 1\n",
    "                if(building_names[i] == current_building):\n",
    "                    building.append((float(x_coordinates[i]),float(y_coordinates[i])))\n",
    "                else:\n",
    "                    if(current_building == 'College Gardens' or current_building == 'Gardens'):\n",
    "                        self.parks.append(building)\n",
    "                    else:\n",
    "                        self.buildings.append(building)\n",
    "\n",
    "                    building = []\n",
    "                    current_building = building_names[i]\n",
    "                    building.append((float(x_coordinates[i]),float(y_coordinates[i])))\n",
    "        else:             \n",
    "            # RANDOM CITY GENERATION FOR TRAINING\n",
    "            right_bound = 0\n",
    "            top_bound = 0\n",
    "\n",
    "            while(top_bound < FRAME_HEIGHT):\n",
    "                top_bound_tracker = top_bound\n",
    "                while(right_bound < FRAME_WIDTH):\n",
    "                    road_width = self.ROAD_WIDTH_INIT + int(random.uniform(-self.ROAD_WIDTH_TOLERANCE,self.ROAD_WIDTH_TOLERANCE))\n",
    "                    building_width = self.BUILDING_WIDTH_INIT + int(random.uniform(-30,30)) + int(random.uniform(-self.BUILDING_WIDTH_TOLERANCE,self.BUILDING_WIDTH_TOLERANCE))\n",
    "                    building_height = self.BUILDING_HEIGHT_INIT + int(random.uniform(-30,30)) + int(random.uniform(-self.BUILDING_HEIGHT_TOLERANCE,self.BUILDING_HEIGHT_TOLERANCE))\n",
    "\n",
    "                    bottom_left_coord = (right_bound+road_width,\n",
    "                                         top_bound+road_width)\n",
    "\n",
    "                    bottom_right_coord = (bottom_left_coord[0]+building_width,\n",
    "                                          bottom_left_coord[1])\n",
    "\n",
    "                    top_right_coord = (bottom_right_coord[0],\n",
    "                                       bottom_right_coord[1]+building_height)\n",
    "\n",
    "                    top_left_coord = (bottom_left_coord[0],\n",
    "                                      top_right_coord[1])\n",
    "\n",
    "                    building = [bottom_left_coord,bottom_right_coord,top_right_coord,top_left_coord]\n",
    "\n",
    "                    # small chance of making the right bound smaller and hence potentially fusing the buildings or making a small alley the drone cant get down\n",
    "                    if(random.uniform(0,1) > 0.1):\n",
    "                        right_bound = bottom_right_coord[0]\n",
    "                    else:\n",
    "                        right_bound = bottom_right_coord[0] - road_width\n",
    "\n",
    "                    if(right_bound < FRAME_WIDTH and top_right_coord[1] < FRAME_HEIGHT):\n",
    "                        # small change to create a park\n",
    "                        if(random.uniform(0,1) > 0.1):\n",
    "                            self.buildings.append(building)\n",
    "                        else:\n",
    "                            self.parks.append(building)\n",
    "\n",
    "                    # make sure we always have largest top bound to avoid buildings \"fusing\" together - with a small chance of not happening i.e. some fusing\n",
    "                    if(top_left_coord[1] > top_bound_tracker and random.uniform(0,1) > 0.2):\n",
    "                        top_bound_tracker = top_left_coord[1]\n",
    "\n",
    "                # small chance of fusing the buildings vertically (or making them very close together)\n",
    "                if(random.uniform(0,1) > 0.1):\n",
    "                    top_bound = top_bound_tracker\n",
    "                else:\n",
    "                    top_bound = top_bound_tracker - self.ROAD_WIDTH_INIT\n",
    "\n",
    "                right_bound = 0\n",
    "            \n",
    "    def create_destination(self):\n",
    "        # get new position of destination on a road\n",
    "        self.DRONE_DESTINATION = self.re_position_coord_on_road(self.DRONE_DESTINATION)\n",
    "\n",
    "        drone_dest = ((self.DRONE_DESTINATION[0]-3,self.DRONE_DESTINATION[1]-3),\n",
    "                    (self.DRONE_DESTINATION[0]+4,self.DRONE_DESTINATION[1]-3),\n",
    "                    (self.DRONE_DESTINATION[0]+4,self.DRONE_DESTINATION[1]+4),\n",
    "                    (self.DRONE_DESTINATION[0]-3,self.DRONE_DESTINATION[1]+4))\n",
    "    \n",
    "        self.destination_box.append(drone_dest)\n",
    "        \n",
    "        # place destination into viewer window\n",
    "        self.viewer.add_geom(self.viewer.draw_polygon(self.destination_box[0],1,color=[0.5,0.2,0.9])) \n",
    "        \n",
    "        self.viewer.render()\n",
    "         \n",
    "    def re_position_coord_on_road(self,START_POSITION_):\n",
    "        # this function takes a starting coordinate for the drone, determines whether it is merged with a building\n",
    "        # (or other drone) and returns the nearest coordinate where it is not colliding\n",
    "        START_POSITION = (0,0)\n",
    "        \n",
    "        START_POSITION = (START_POSITION_[1],START_POSITION_[0])\n",
    "        \n",
    "        # get image of environment\n",
    "        self.viewer.render()\n",
    "        \n",
    "        image_data_buffer = pyglet.image.get_buffer_manager().get_color_buffer().get_image_data().get_data()         \n",
    "        image_data = np.frombuffer(image_data_buffer,dtype=np.uint8,count=-1,offset=0) # pixel data is in one big line of values\n",
    "        pixel_data = image_data.reshape(len(image_data)//4,4) # get individual pixel data and store in elements in an array\n",
    "        pixel_data = pixel_data.reshape(FRAME_HEIGHT,FRAME_WIDTH,4)\n",
    "        \n",
    "        city_image = pixel_data\n",
    "        \n",
    "        window_row_start = START_POSITION[0]-math.floor(REPOSITION_ROAD_WINDOW_SIZE/2)+2\n",
    "        window_row_end = window_row_start+REPOSITION_ROAD_WINDOW_SIZE\n",
    "\n",
    "        if(window_row_start < 0):\n",
    "            window_row_start = 0\n",
    "        elif(window_row_end > FRAME_HEIGHT):\n",
    "            window_row_end = FRAME_HEIGHT  \n",
    "\n",
    "        window_col_start = START_POSITION[1]-math.floor(REPOSITION_ROAD_WINDOW_SIZE/2)+2\n",
    "        window_col_end = window_col_start+REPOSITION_ROAD_WINDOW_SIZE\n",
    "\n",
    "        if(window_col_start < 0):\n",
    "            window_col_start = 0\n",
    "        elif(window_col_end > FRAME_WIDTH):\n",
    "            window_col_end = FRAME_WIDTH\n",
    "\n",
    "        city_image_section = city_image[window_row_start:window_row_end,window_col_start:window_col_end,:]\n",
    "\n",
    "        reposition_indicator = 0\n",
    "\n",
    "        # loop over rows\n",
    "        for i in range(np.shape(city_image_section)[0]):\n",
    "            # loop over columns\n",
    "            for j in range(np.shape(city_image_section)[1]):\n",
    "                if(city_image_section[i,j,0] != 166):\n",
    "                    # i.e. a building - not the ground\n",
    "                    reposition_indicator = 1\n",
    "                    break\n",
    "            if(reposition_indicator == 1):\n",
    "                break\n",
    "        \n",
    "        if(reposition_indicator == 0):\n",
    "            return START_POSITION_\n",
    "        else:\n",
    "            # perform an averaging convolution/correlation to find areas where the drone can spawn (outwith a building)\n",
    "            # if the convoloved result has a pixel equal to the average (mean) of the ground pixels then we know there is a window at that point the drone can spawn at\n",
    "            conv_row_start = math.floor(REPOSITION_ROAD_WINDOW_SIZE/2)\n",
    "            conv_row_end = FRAME_HEIGHT - conv_row_start\n",
    "\n",
    "            conv_col_start = math.floor(REPOSITION_ROAD_WINDOW_SIZE/2)\n",
    "            conv_col_end = FRAME_WIDTH - conv_col_start\n",
    "\n",
    "            convolved_result = np.zeros(shape=(FRAME_HEIGHT,FRAME_WIDTH))\n",
    "            avg_factor = REPOSITION_ROAD_WINDOW_SIZE**2\n",
    "\n",
    "            stride = 5\n",
    "\n",
    "            # implementation of mean filter with kernel of size DRONE_WINDOW_SIZExDRONE_WINDOW_SIZE\n",
    "            for i in range(FRAME_HEIGHT):\n",
    "                for j in range(FRAME_WIDTH):\n",
    "                    if(i >= conv_row_start and i < conv_row_end and j >= conv_col_start and j < conv_col_end):\n",
    "                        if(i % stride == 0 and j % stride == 0):\n",
    "                            window_row_start_idx = i - math.floor(REPOSITION_ROAD_WINDOW_SIZE/2)\n",
    "                            window_col_start_idx = j - math.floor(REPOSITION_ROAD_WINDOW_SIZE/2)\n",
    "                            # loop over kernel rows\n",
    "                            for k1 in range(REPOSITION_ROAD_WINDOW_SIZE):\n",
    "                                # loop over kernel columns\n",
    "                                for k2 in range(REPOSITION_ROAD_WINDOW_SIZE):\n",
    "                                    convolved_result[i,j] += city_image[window_row_start_idx+k1,window_col_start_idx+k2,0]\n",
    "\n",
    "                            convolved_result[i,j] = convolved_result[i,j] / avg_factor\n",
    "\n",
    "            start_coords = []\n",
    "            # new coordinate will stay the same if an appriopriate position cannot be found\n",
    "            new_coord = START_POSITION\n",
    "\n",
    "            # find coordinates where drone is allowed to start\n",
    "            for i in range(FRAME_HEIGHT):\n",
    "                for j in range(FRAME_WIDTH):\n",
    "                    if(convolved_result[i,j] == 166):\n",
    "                        start_coords.append((i,j))\n",
    "\n",
    "            # find closest index to originally requrested position\n",
    "            if(len(start_coords) > 0):\n",
    "                smallest_distance = math.sqrt((START_POSITION[0]-start_coords[0][0])**2 + (START_POSITION[1]-start_coords[0][1])**2)\n",
    "            for i in range(len(start_coords)):\n",
    "                if(i > 0):\n",
    "                    distance = math.sqrt((START_POSITION[0]-start_coords[i][0])**2 + (START_POSITION[1]-start_coords[i][1])**2)\n",
    "                    if(distance < smallest_distance):\n",
    "                        smallest_distance = distance\n",
    "                        new_coord = start_coords[i]\n",
    "            \n",
    "            #return drone_new_coord\n",
    "            new_coord_return = (new_coord[1],new_coord[0])\n",
    "            return new_coord_return\n",
    "            \n",
    "    def create_drones(self):\n",
    "        ### create the first drone\n",
    "        # create instance of Drone class\n",
    "        drone = Drone()\n",
    "        \n",
    "        # first drone position set manually - check if the drone is starting in a building and if so, move it closeby out of building        \n",
    "        drone.drone_position_init = self.re_position_coord_on_road(self.DRONE_START_POSITION)\n",
    "        drone.drone_position = drone.drone_position_init\n",
    "        drone.drone_position_prev = drone.drone_position\n",
    "        drone.drone_observation = np.zeros(shape=(OBSRV_WIDTH,OBSRV_HEIGHT,4),dtype=np.uint8)\n",
    "        # add drone to list\n",
    "        self.drones.append(drone)\n",
    "        \n",
    "        # loop over remaining drones\n",
    "        for i in range(self.NO_DRONES):\n",
    "            if(i > 0):\n",
    "                # create instance of Drone class\n",
    "                drone = Drone()\n",
    "                # define drone initial positions and observation windows of drones (square around)\n",
    "                drone.drone_position_init = (random.uniform(0, FRAME_WIDTH-1),random.uniform(0, FRAME_HEIGHT-1))\n",
    "                drone.drone_position = drone.drone_position_init\n",
    "                drone.drone_position_prev = drone.drone_position\n",
    "                drone.drone_observation = np.zeros(shape=(OBSRV_WIDTH,OBSRV_HEIGHT,4),dtype=np.uint8)\n",
    "                # add drone to list\n",
    "                self.drones.append(drone)\n",
    "    \n",
    "    def create_box2d_world(self):\n",
    "        # create static bodies (buildings) in world\n",
    "        for i in range(len(self.buildings)):\n",
    "            self.static_bodies.append(self.world.CreateStaticBody(fixtures=fixtureDef(shape=polygonShape(vertices=self.buildings[i]))))\n",
    "    \n",
    "        # create dynamic bodies (drones) in world\n",
    "        for i in range(len(self.drones)):\n",
    "            self.drones[i].dynamic_body = self.world.CreateDynamicBody(\n",
    "            position=self.drones[i].drone_position_init, # MAY HAVE TO CHANGE THIS INITIAL POSITION FROM PIXELS TO METRES\n",
    "            angularDamping = 0.1,\n",
    "            angle=0,\n",
    "            fixtures=fixtureDef(shape=polygonShape(vertices=DRONE_SHAPE)))\n",
    "    \n",
    "    def step(self, action):\n",
    "        # step_reward is the reward for the current action\n",
    "        # reward is the cumulative reward\n",
    "        # prev_reward is the cumulative reward at the previous time step\n",
    "        step_reward = 0\n",
    "        \n",
    "        if action is not None:  # First step without action, called from reset()\n",
    "            self.reward -= 0.2\n",
    "            self.reward += 1/self.drones[0].drone_distance_observation\n",
    "            if self.drone_contact == True:\n",
    "                self.done = True\n",
    "                self.reward -= 100\n",
    "\n",
    "            if self.drones[0].drone_distance_observation < 250 and self.d250==False:\n",
    "                self.reward += 30\n",
    "                self.d250 = True\n",
    "            \n",
    "            if self.drones[0].drone_distance_observation < 200 and self.d200==False:\n",
    "                self.reward += 35\n",
    "                self.d200 = True\n",
    "            \n",
    "            if self.drones[0].drone_distance_observation < 150 and self.d150==False:\n",
    "                self.reward += 40\n",
    "                self.d150 = True\n",
    "            \n",
    "            if self.drones[0].drone_distance_observation < 100 and self.d100==False:\n",
    "                self.reward += 45\n",
    "                self.d100 = True\n",
    "            \n",
    "            if self.drones[0].drone_distance_observation < 50 and self.d50==False:\n",
    "                self.reward += 50\n",
    "                self.d50 = True\n",
    "\n",
    "            if self.drones[0].drone_distance_observation < 10:\n",
    "                self.reward += 500\n",
    "                self.done = True\n",
    "                \n",
    "            # is the drone outwith window\n",
    "            if(self.drones[0].drone_position[0] < 0 or self.drones[0].drone_position[0] > FRAME_WIDTH or\n",
    "               self.drones[0].drone_position[1] < 0 or self.drones[0].drone_position[1] > FRAME_HEIGHT):\n",
    "                self.reward -= 100\n",
    "                self.done = True\n",
    "            ###############################\n",
    "                \n",
    "            step_reward = self.reward - self.prev_reward\n",
    "            self.prev_reward = self.reward\n",
    "        \n",
    "        \n",
    "        # update drone positions based on action - ONLY BEING APPLIED TO ONE DRONE (FIRST IN LIST)\n",
    "        self.drones[0].drone_step(action)\n",
    "        \n",
    "        # apply a random movement to the other drones - ***may want to change later if controlling all drones***\n",
    "        for j in range(len(self.drones)-1):\n",
    "            self.drones[j+1].drone_step(random.randint(0,8))\n",
    "        \n",
    "        # call \"Step\" function to update drone position in box2D\n",
    "        self.world.Step(1/FPS,1,1)\n",
    "        \n",
    "        # update and round position to integer for all drones - after box2d world step\n",
    "        for j in range(len(self.drones)):\n",
    "            self.drones[j].update_position()\n",
    "        \n",
    "        # update viewer window\n",
    "        self.render()\n",
    "        \n",
    "        # set state as observation window (per racecar env)\n",
    "        state = self.drones[0].drone_observation\n",
    "        state = self.process_states(state)\n",
    "        \n",
    "        # only return observation for first drone\n",
    "        return state, self.reward, self.done, {}\n",
    "                \n",
    "    def reset(self):\n",
    "        self.drone_contact = False\n",
    "        self.done = False\n",
    "        self.reward = 0.0\n",
    "        self.prev_reward = 0.0\n",
    "        self.step_reward = 0\n",
    "        \n",
    "        self.d250 = False\n",
    "        self.d200 = False\n",
    "        self.d150 = False\n",
    "        self.d100 = False\n",
    "        self.d50 = False\n",
    "\n",
    "        for i in range(len(self.drones)):  \n",
    "            self.world.DestroyBody(self.drones[i].dynamic_body)\n",
    "            \n",
    "            self.drones[i].dynamic_body = self.world.CreateDynamicBody(\n",
    "            position=self.drones[i].drone_position_init, # MAY HAVE TO CHANGE THIS INITIAL POSITION FROM PIXELS TO METRES\n",
    "            angularDamping = 0.1,\n",
    "            angle=0,\n",
    "            fixtures=fixtureDef(shape=polygonShape(vertices=DRONE_SHAPE)))\n",
    "                \n",
    "        # set state as observation window (per racecar env)\n",
    "        state = self.drones[0].drone_observation\n",
    "        state = self.process_states(state)\n",
    "        \n",
    "        return state\n",
    "    \n",
    "    def process_states(self,states):\n",
    "        # flatten\n",
    "        states = np.mean(states[:,:,0:3],2)\n",
    "        states = np.dstack(states).T\n",
    "                \n",
    "        return states\n",
    "        \n",
    "    def get_observations(self):\n",
    "        \n",
    "        # only want first drone...\n",
    "        for j in range(1):\n",
    "            # get origin (i.e. bottom left coordinate) of observation window\n",
    "            drone_centre = (self.drones[j].drone_position_prev[0]+2,self.drones[j].drone_position_prev[1]+2)\n",
    "            observation_window_origin = (int(drone_centre[0] - math.floor(OBSRV_WIDTH/2)), int(drone_centre[1] - math.floor(OBSRV_HEIGHT/2)))\n",
    "\n",
    "            # update drone observation (observation space) - a 2D array of 4D tuples - RGB values and transparency value\n",
    "            image_data_buffer = pyglet.image.get_buffer_manager().get_color_buffer().get_region(observation_window_origin[0],observation_window_origin[1],OBSRV_WIDTH,OBSRV_HEIGHT).get_image_data().get_data() # get window centred on drone of size OBSRV_WIDTH X OBSRV_HEIGHT\n",
    "\n",
    "            # save image of observation space to hard drive\n",
    "            #pyglet.image.get_buffer_manager().get_color_buffer().get_region(observation_window_origin[0],observation_window_origin[1],OBSRV_WIDTH,OBSRV_HEIGHT).get_image_data().save(\"test\" + str(i) + \".png\")\n",
    "        \n",
    "            image_data = np.frombuffer(image_data_buffer,dtype=np.uint8,count=-1,offset=0) # pixel data is in one big line of values\n",
    "            pixel_data = image_data.reshape(len(image_data)//4,4) # get individual pixel data and store in elements in an array\n",
    "            pixel_data = pixel_data.reshape(OBSRV_WIDTH,OBSRV_HEIGHT,4) # reshape to a 2D array of pixel values surrounding the drone\n",
    "        \n",
    "            # observation space for each drone - a 13x13 grid of RGB pixel values\n",
    "    \n",
    "            if(self.OBSCURE_DRONE_OBSRV == 1):\n",
    "                # place a black square over the drone (15x15)\n",
    "                if(OBSRV_WIDTH < 15):\n",
    "                    print(\"Warning: image observation all zeros!\")\n",
    "                    pixel_data[:,:,0:3] = 0                    \n",
    "                else:\n",
    "                    pixel_data[math.floor(OBSRV_WIDTH/2)-7:math.floor(OBSRV_WIDTH/2)+8,math.floor(OBSRV_HEIGHT/2)-7:math.floor(OBSRV_HEIGHT/2)+8,0:3] = 0\n",
    "            \n",
    "            self.drones[j].drone_observation = np.flip(pixel_data,0)\n",
    "            \n",
    "            # update distance observation with euclidean distance of drone from destination\n",
    "            self.drones[j].drone_distance_observation = np.linalg.norm(np.array(self.drones[j].drone_position) - self.DRONE_DESTINATION)\n",
    "        \n",
    "    def render_init_city(self):\n",
    "        # draw background\n",
    "        self.viewer.add_geom(self.viewer.draw_polygon([(0,0),(FRAME_WIDTH,0),(FRAME_WIDTH,FRAME_HEIGHT),(0,FRAME_HEIGHT)],1,color=[0.65,0.65,0.65]))\n",
    "        \n",
    "        # place buildings into viewer window\n",
    "        for i in range(len(self.buildings)):\n",
    "            self.viewer.add_geom(self.viewer.draw_polygon(self.buildings[i],1,color=[0.85,0.85,0.85]))   \n",
    "            \n",
    "        # place parks into viewer\n",
    "        for i in range(len(self.parks)):\n",
    "            self.viewer.add_geom(self.viewer.draw_polygon(self.parks[i],1,color=[0.7,0.85,0.15]))           \n",
    "    \n",
    "        # update viewer window and wait before adding drones\n",
    "        self.viewer.render()\n",
    "        \n",
    "        time.sleep(1)\n",
    "        \n",
    "    def render_init_drones(self):\n",
    "\n",
    "        # place drone into viewer window\n",
    "        drone_positions = []\n",
    "        for i in range(len(self.drones)):\n",
    "            drone_positions.append(self.drones[i].drone_position_init)\n",
    "\n",
    "        # needs to consider the shape of the drone plus the current offset\n",
    "        self.drone_shape_viewer = []\n",
    "        for j in range(len(self.drones)): \n",
    "            self.drone_shape_viewer.append(DRONE_SHAPE.copy())\n",
    "\n",
    "        # draw initial positions of drones\n",
    "        for j in range(len(self.drones)):\n",
    "            for k in range(len(DRONE_SHAPE)):\n",
    "                self.drone_shape_viewer[j][k] = (DRONE_SHAPE[k][0] + drone_positions[j][0],DRONE_SHAPE[k][1] + drone_positions[j][1])    \n",
    "\n",
    "        # add drones to viewer\n",
    "\n",
    "        # draw drone\n",
    "        drone_centre = (self.drones[0].drone_position[0]+2,self.drones[0].drone_position[1]+2)\n",
    "        self.draw_drone(drone_centre,(255,0,0))\n",
    "        \n",
    "        # remaining drones - same colour\n",
    "        for j in range(len(self.drones)-1):            \n",
    "            drone_centre = (self.drones[j+1].drone_position[0]+2,self.drones[j+1].drone_position[1]+2)\n",
    "            self.draw_drone(drone_centre,(0,0,255))\n",
    "    \n",
    "        # render viewer window and wait a second\n",
    "        self.viewer.render()\n",
    "        \n",
    "        # get observation window for all drones\n",
    "        self.get_observations()\n",
    "    \n",
    "        time.sleep(1)        \n",
    "    \n",
    "    def render(self,mode=\"human\"):\n",
    "        if(self.render_init == 0):\n",
    "            self.viewer = None\n",
    "            self.viewer = rendering.Viewer(FRAME_WIDTH, FRAME_HEIGHT)\n",
    "            self.render_init_city()\n",
    "            self.create_destination()\n",
    "            self.render_init_drones()\n",
    "            self.render_init = 1\n",
    "        \n",
    "        # in this loop, we update the position of the drones in the viewer window\n",
    "        for i in range(len(self.drones)):\n",
    "            # inner loop for individual drone geometries\n",
    "            for j in range(5):\n",
    "                del self.viewer.geoms[-1]\n",
    "        \n",
    "        for j in range(len(self.drones)):\n",
    "            for k in range(len(DRONE_SHAPE)):\n",
    "                self.drone_shape_viewer[j][k] = (DRONE_SHAPE[k][0] + self.drones[j].drone_position[0],DRONE_SHAPE[k][1] + self.drones[j].drone_position[1])\n",
    "                        \n",
    "            # add drone to viewer\n",
    "            if(j == 0):            \n",
    "                # draw drone\n",
    "                drone_centre = (self.drones[j].drone_position[0]+2,self.drones[j].drone_position[1]+2)\n",
    "                self.draw_drone(drone_centre,(255,0,0))\n",
    "            else:              \n",
    "                drone_centre = (self.drones[j].drone_position[0]+2,self.drones[j].drone_position[1]+2)\n",
    "                self.draw_drone(drone_centre,(0,0,255))\n",
    "            \n",
    "        # render viewer window    \n",
    "        self.viewer.render()       \n",
    "        \n",
    "        # get observation window for all drones\n",
    "        self.get_observations()\n",
    "        \n",
    "    def draw_drone(self,drone_centre,drone_colour): \n",
    "        # main chassis\n",
    "        chassis_bottom_left_coord = (drone_centre[0]-1,drone_centre[1]-3)\n",
    "        chassis_bottom_right_coord = (drone_centre[0]+2,drone_centre[1]-3)\n",
    "        chassis_top_right_coord = (drone_centre[0]+2,drone_centre[1]+4)\n",
    "        chassis_top_left_coord = (drone_centre[0]-1,drone_centre[1]+4)\n",
    "\n",
    "        self.viewer.add_geom(self.viewer.draw_polygon((chassis_bottom_left_coord,\n",
    "                                                       chassis_bottom_right_coord,\n",
    "                                                       chassis_top_right_coord,\n",
    "                                                       chassis_top_left_coord,\n",
    "                                                       chassis_bottom_left_coord),1,color=[drone_colour[0],drone_colour[1],drone_colour[2]]))\n",
    "        \n",
    "        # bottom left propeller\n",
    "        circle_geom = rendering.make_circle(radius=3, filled=False)\n",
    "        circle_geom.set_color(0,0,0)        \n",
    "        for k in range(len(circle_geom.v)):\n",
    "            circle_geom.v[k] = (circle_geom.v[k][0] + drone_centre[0]-4,circle_geom.v[k][1] + drone_centre[1]-4)\n",
    "        self.viewer.add_geom(circle_geom)\n",
    "                \n",
    "        # bottom right propeller\n",
    "        circle_geom = rendering.make_circle(radius=3, filled=False)\n",
    "        circle_geom.set_color(0,0,0)        \n",
    "        for k in range(len(circle_geom.v)):\n",
    "            circle_geom.v[k] = (circle_geom.v[k][0] + drone_centre[0]+5,circle_geom.v[k][1] + drone_centre[1]-4)\n",
    "        self.viewer.add_geom(circle_geom)\n",
    "                \n",
    "        # top left propeller\n",
    "        circle_geom = rendering.make_circle(radius=3, filled=False)\n",
    "        circle_geom.set_color(0,0,0)        \n",
    "        for k in range(len(circle_geom.v)):\n",
    "            circle_geom.v[k] = (circle_geom.v[k][0] + drone_centre[0]-4,circle_geom.v[k][1] + drone_centre[1]+5)\n",
    "        self.viewer.add_geom(circle_geom)\n",
    "                \n",
    "        # top right propeller\n",
    "        circle_geom = rendering.make_circle(radius=3, filled=False)\n",
    "        circle_geom.set_color(0,0,0)        \n",
    "        for k in range(len(circle_geom.v)):\n",
    "            circle_geom.v[k] = (circle_geom.v[k][0] + drone_centre[0]+5,circle_geom.v[k][1] + drone_centre[1]+5)\n",
    "        self.viewer.add_geom(circle_geom)\n",
    "        \n",
    "    def close(self):\n",
    "        self.render_init = 0\n",
    "        self.viewer.close()"
   ]
  },
  {
   "cell_type": "markdown",
   "metadata": {
    "id": "pcEmlXcifwKG"
   },
   "source": [
    "Run the following few cells to test out the environment"
   ]
  },
  {
   "cell_type": "code",
   "execution_count": 3,
   "metadata": {
    "id": "eqHXJ7i8g865"
   },
   "outputs": [],
   "source": [
    "import matplotlib.pyplot as plt\n",
    "from IPython import display"
   ]
  },
  {
   "cell_type": "code",
   "execution_count": 4,
   "metadata": {
    "id": "liJTvLc9fwKJ"
   },
   "outputs": [],
   "source": [
    "def test_env(start,end):\n",
    "    # instantiate environment\n",
    "    drone_env = DroneEnv()\n",
    "\n",
    "    # random city generator parameters - need to be selected carefully so buildings maintain normal shape compatible with box2d\n",
    "    drone_env.ROAD_WIDTH_INIT = 15\n",
    "    drone_env.ROAD_WIDTH_TOLERANCE = 3\n",
    "    drone_env.BUILDING_WIDTH_INIT = 50\n",
    "    drone_env.BUILDING_WIDTH_TOLERANCE = 7\n",
    "    drone_env.BUILDING_HEIGHT_INIT = 50\n",
    "    drone_env.BUILDING_HEIGHT_TOLERANCE = 7\n",
    "\n",
    "    # set number of drones in environment (includes one we are controlling)\n",
    "    drone_env.NO_DRONES = 10\n",
    "\n",
    "    # set start and end positions of drone we are controlling\n",
    "    drone_env.DRONE_START_POSITION = start\n",
    "    drone_env.DRONE_END_POSITION = end\n",
    "    # drone_env.DRONE_START_POSITION = (int(random.uniform(20,FRAME_WIDTH-21)),int(random.uniform(20,FRAME_HEIGHT-21)))\n",
    "    # drone_env.DRONE_DESTINATION = (int(random.uniform(20,FRAME_WIDTH-21)),int(random.uniform(20,FRAME_HEIGHT-21)))\n",
    "\n",
    "    # set to '1' to make drone a black box in the observation window - other drones will still be visible normally\n",
    "    drone_env.OBSCURE_DRONE_OBSRV = 0\n",
    "\n",
    "    # set to '1' to use the stratchlyde environment or '0' to use a randomly generated environment\n",
    "    drone_env.STRATHY = 0\n",
    "\n",
    "    # needs to be called after the parameters have been set\n",
    "    drone_env.initialise_environment()\n",
    "\n",
    "    episodes = 10\n",
    "    for episode in range(1,episodes+1):\n",
    "        drone_env.reset()\n",
    "        done = False\n",
    "        score = 0\n",
    "        #for i in range(50):\n",
    "        while not done:\n",
    "            # action\n",
    "            #horizontal_force = random.uniform(-0.4, 1)\n",
    "            #vertical_force = random.uniform(-0.4, 1)\n",
    "            #action = (horizontal_force,vertical_force)\n",
    "\n",
    "            action = random.randint(0,8)\n",
    "            #action = 0\n",
    "\n",
    "            # step for reinforcemene learning algorithm\n",
    "            observation, reward, done, _  = drone_env.step(action)\n",
    "            #time.sleep(0.2)\n",
    "\n",
    "            # print observation using matplotlib\n",
    "            #plt.imshow(drone_env.drones[0].drone_observation)\n",
    "            ##### comment to make simulation run faster #####\n",
    "            #plt.show()\n",
    "            #print(done)\n",
    "            #################################################\n",
    "\n",
    "        score = drone_env.reward\n",
    "        #print('Episode:{} Score:{}'.format(episode,score))\n",
    "        #print('Distance from destination:{}'.format(observation[1]))\n",
    "\n",
    "    drone_env.close()"
   ]
  },
  {
   "cell_type": "code",
   "execution_count": 5,
   "metadata": {
    "id": "XsAOo-20fwKJ"
   },
   "outputs": [],
   "source": [
    "start_1 = (143,77)\n",
    "end_1 = (491,338)\n",
    "\n",
    "start_2 = (435,7)\n",
    "end_2 = (244,337)\n",
    "\n",
    "start_3 = (99,132)\n",
    "end_3 = (458,283)\n",
    "\n",
    "start_4 = (322,97)\n",
    "end_4 = (51,206)\n",
    "\n",
    "start_5 = (262,114)\n",
    "end_5 = (427,283)"
   ]
  },
  {
   "cell_type": "code",
   "execution_count": 6,
   "metadata": {},
   "outputs": [
    {
     "name": "stderr",
     "output_type": "stream",
     "text": [
      "c:\\users\\ryan_\\gym\\gym\\logger.py:30: UserWarning: \u001b[33mWARN: Box bound precision lowered by casting to float32\u001b[0m\n",
      "  warnings.warn(colorize('%s: %s'%('WARN', msg % args), 'yellow'))\n"
     ]
    }
   ],
   "source": [
    "test_env(start_1,end_1)"
   ]
  },
  {
   "cell_type": "markdown",
   "metadata": {
    "id": "qMWP6vIMfwKK"
   },
   "source": [
    "# DQN demo with environment\n",
    "credit: Nicholas Renotte https://github.com/nicknochnack/TensorflowKeras-ReinforcementLearning/blob/master/Deep%20Reinforcement%20Learning.ipynb"
   ]
  },
  {
   "cell_type": "markdown",
   "metadata": {},
   "source": [
    "# 0. Install Dependencies"
   ]
  },
  {
   "cell_type": "code",
   "execution_count": null,
   "metadata": {
    "id": "im_FgDh5fwKK"
   },
   "outputs": [],
   "source": [
    "# !pip install tensorflow==2.3.0\n",
    "# !pip install gym\n",
    "# !pip install keras\n",
    "# !pip install keras-rl2\n"
   ]
  },
  {
   "cell_type": "markdown",
   "metadata": {
    "id": "dR3zTSbefwKK"
   },
   "source": [
    "# 1. Test Random Environment with OpenAI Gym"
   ]
  },
  {
   "cell_type": "code",
   "execution_count": 7,
   "metadata": {
    "id": "ROQ_b8j1fwKK"
   },
   "outputs": [],
   "source": [
    "def create_env(start,end):\n",
    "    # instantiate environment\n",
    "    drone_env =  DroneEnv()\n",
    "\n",
    "    # random city generator parameters - need to be selected carefully so buildings maintain normal shape compatible with box2d\n",
    "    drone_env.ROAD_WIDTH_INIT = 15\n",
    "    drone_env.ROAD_WIDTH_TOLERANCE = 3\n",
    "    drone_env.BUILDING_WIDTH_INIT = 50\n",
    "    drone_env.BUILDING_WIDTH_TOLERANCE = 7\n",
    "    drone_env.BUILDING_HEIGHT_INIT = 50\n",
    "    drone_env.BUILDING_HEIGHT_TOLERANCE = 7\n",
    "\n",
    "    # set number of drones in environment (includes one we are controlling)\n",
    "    drone_env.NO_DRONES = 10\n",
    "\n",
    "    # set start and end positions of drone we are controlling\n",
    "    drone_env.DRONE_START_POSITION = start\n",
    "    drone_env.DRONE_DESTINATION = end\n",
    "    # drone_env.DRONE_START_POSITION = (int(random.uniform(20,FRAME_WIDTH-21)),int(random.uniform(20,FRAME_HEIGHT-21)))\n",
    "    # drone_env.DRONE_DESTINATION = (int(random.uniform(20,FRAME_WIDTH-21)),int(random.uniform(20,FRAME_HEIGHT-21)))\n",
    "\n",
    "    # set to '1' to make drone a black box in the observation window - other drones will still be visible normally\n",
    "    drone_env.OBSCURE_DRONE_OBSRV = 0\n",
    "\n",
    "    # set to '1' to use the stratchlyde environment or '0' to use a randomly generated environment\n",
    "    drone_env.STRATHY = 0\n",
    "\n",
    "    # needs to be called after the parameters have been set\n",
    "    drone_env.initialise_environment()\n",
    "\n",
    "    # this is the dimensions of the observation window input to model\n",
    "    states = (drone_env.observation_space.shape[0], drone_env.observation_space.shape[1])\n",
    "\n",
    "    # this is the number of actions, ie 2, vertical and horizontal force\n",
    "    #actions = drone_env.action_space.shape[0]\n",
    "    actions = drone_env.action_space.n # for discrete action space\n",
    "\n",
    "    drone_env.close()\n",
    "\n",
    "    return drone_env"
   ]
  },
  {
   "cell_type": "code",
   "execution_count": 8,
   "metadata": {},
   "outputs": [],
   "source": [
    "drone_env = create_env(start_1,end_1)\n",
    "\n",
    "# this is the dimensions of the observation window input to model\n",
    "states = (drone_env.observation_space.shape[0], drone_env.observation_space.shape[1])\n",
    "\n",
    "# this is the number of actions, ie 2, vertical and horizontal force\n",
    "#actions = drone_env.action_space.shape[0]\n",
    "actions = drone_env.action_space.n # for discrete action space"
   ]
  },
  {
   "cell_type": "code",
   "execution_count": 9,
   "metadata": {
    "id": "X5R0rH-BwHo5"
   },
   "outputs": [
    {
     "data": {
      "text/plain": [
       "432.40374651475906"
      ]
     },
     "execution_count": 9,
     "metadata": {},
     "output_type": "execute_result"
    }
   ],
   "source": [
    "# make sure distance between start and end is over 250 for reward to work\n",
    "np.linalg.norm(np.array(drone_env.DRONE_START_POSITION) - drone_env.DRONE_DESTINATION)"
   ]
  },
  {
   "cell_type": "markdown",
   "metadata": {
    "id": "Ebj5PmZKfwKL"
   },
   "source": [
    "# 2. Create a Deep Learning Model with Keras"
   ]
  },
  {
   "cell_type": "code",
   "execution_count": 10,
   "metadata": {
    "id": "maL-TSXEfwKL"
   },
   "outputs": [],
   "source": [
    "import numpy as np\n",
    "from tensorflow.keras.models import Sequential\n",
    "from tensorflow.keras.layers import Dense, Flatten, Permute\n",
    "from tensorflow.keras.optimizers import Adam\n",
    "from tensorflow.keras import activations"
   ]
  },
  {
   "cell_type": "code",
   "execution_count": 16,
   "metadata": {
    "id": "exHm99LifwKL"
   },
   "outputs": [],
   "source": [
    "import keras\n",
    "import keras.optimizers as Kopt\n",
    "from keras.layers import Convolution2D, MaxPooling3D, MaxPooling2D\n",
    "from keras.layers import Dense, Flatten, Input\n",
    "from keras.models import Model"
   ]
  },
  {
   "cell_type": "code",
   "execution_count": 17,
   "metadata": {
    "id": "5W3uDcFsfwKL"
   },
   "outputs": [
    {
     "data": {
      "text/plain": [
       "9"
      ]
     },
     "execution_count": 17,
     "metadata": {},
     "output_type": "execute_result"
    }
   ],
   "source": [
    "actions"
   ]
  },
  {
   "cell_type": "code",
   "execution_count": 18,
   "metadata": {
    "id": "2uA7FQiIfwKM"
   },
   "outputs": [
    {
     "data": {
      "text/plain": [
       "(1, 85, 85, 1)"
      ]
     },
     "execution_count": 18,
     "metadata": {},
     "output_type": "execute_result"
    }
   ],
   "source": [
    "observation_shape = (1,OBSRV_WIDTH,OBSRV_HEIGHT,1)\n",
    "observation_shape"
   ]
  },
  {
   "cell_type": "code",
   "execution_count": 19,
   "metadata": {
    "id": "lZCYSQ9vfwKM"
   },
   "outputs": [],
   "source": [
    "# LEARNING_RATE = 0.001\n",
    "\n",
    "def build_model(actions=actions):\n",
    "    brain_in = Input(shape=observation_shape, name='brain_in')\n",
    "    x = brain_in\n",
    "    \n",
    "    x = Convolution2D(12, (7,7), strides=(1,1), activation='relu')(x)\n",
    "    x = MaxPooling3D(pool_size=(1, 2, 2), strides=(1, 2, 2), padding='valid')(x)\n",
    "    x = Convolution2D(24, (3,3), strides=(1,1), activation='relu')(x)\n",
    "    x = MaxPooling3D(pool_size=(1, 2, 2), strides=(1, 2, 2), padding='valid')(x)\n",
    "   \n",
    "    x = Flatten(name='flattened')(x)\n",
    "    x = Dense(128, activation='relu')(x)\n",
    "    x = Dense(actions, activation=\"linear\")(x)\n",
    "        \n",
    "    model = Model(inputs=brain_in, outputs=x)\n",
    "        \n",
    "    return model"
   ]
  },
  {
   "cell_type": "code",
   "execution_count": 20,
   "metadata": {
    "id": "tQtIZlkxfwKM",
    "scrolled": true
   },
   "outputs": [],
   "source": [
    "model = build_model()"
   ]
  },
  {
   "cell_type": "code",
   "execution_count": 21,
   "metadata": {
    "id": "10kkG9Vclxv6"
   },
   "outputs": [
    {
     "name": "stdout",
     "output_type": "stream",
     "text": [
      "Model: \"model\"\n",
      "_________________________________________________________________\n",
      "Layer (type)                 Output Shape              Param #   \n",
      "=================================================================\n",
      "brain_in (InputLayer)        [(None, 1, 85, 85, 1)]    0         \n",
      "_________________________________________________________________\n",
      "conv2d (Conv2D)              (None, 1, 79, 79, 12)     600       \n",
      "_________________________________________________________________\n",
      "max_pooling3d (MaxPooling3D) (None, 1, 39, 39, 12)     0         \n",
      "_________________________________________________________________\n",
      "conv2d_1 (Conv2D)            (None, 1, 37, 37, 24)     2616      \n",
      "_________________________________________________________________\n",
      "max_pooling3d_1 (MaxPooling3 (None, 1, 18, 18, 24)     0         \n",
      "_________________________________________________________________\n",
      "flattened (Flatten)          (None, 7776)              0         \n",
      "_________________________________________________________________\n",
      "dense (Dense)                (None, 128)               995456    \n",
      "_________________________________________________________________\n",
      "dense_1 (Dense)              (None, 9)                 1161      \n",
      "=================================================================\n",
      "Total params: 999,833\n",
      "Trainable params: 999,833\n",
      "Non-trainable params: 0\n",
      "_________________________________________________________________\n"
     ]
    }
   ],
   "source": [
    "model.summary()"
   ]
  },
  {
   "cell_type": "markdown",
   "metadata": {
    "id": "3Qb845vpfwKN"
   },
   "source": [
    "# 3. Build Agent with Keras-RL"
   ]
  },
  {
   "cell_type": "code",
   "execution_count": 145,
   "metadata": {
    "id": "tDBpxDdRi2n_"
   },
   "outputs": [],
   "source": [
    "# pip install gym==0.12.1\n",
    "# !pip install rl\n",
    "# !pip install keras-rl2"
   ]
  },
  {
   "cell_type": "code",
   "execution_count": 22,
   "metadata": {
    "id": "iWYpPjg8fwKN"
   },
   "outputs": [],
   "source": [
    "from rl.agents import DQNAgent\n",
    "from rl.policy import BoltzmannQPolicy\n",
    "from rl.memory import SequentialMemory\n",
    "import tensorflow as tf"
   ]
  },
  {
   "cell_type": "code",
   "execution_count": 147,
   "metadata": {
    "colab": {
     "base_uri": "https://localhost:8080/"
    },
    "id": "TAG9ZwT_jHET",
    "outputId": "e018ceb1-9ce4-490a-9675-8be7032b5e7c"
   },
   "outputs": [
    {
     "name": "stdout",
     "output_type": "stream",
     "text": [
      "Drive already mounted at /content/drive; to attempt to forcibly remount, call drive.mount(\"/content/drive\", force_remount=True).\n"
     ]
    }
   ],
   "source": [
    "# from google.colab import drive\n",
    "# drive.mount('/content/drive')"
   ]
  },
  {
   "cell_type": "code",
   "execution_count": 23,
   "metadata": {
    "id": "CzlrNVFdfwKN"
   },
   "outputs": [],
   "source": [
    "limit = 1000\n",
    "\n",
    "def build_agent(model, actions):\n",
    "    policy = BoltzmannQPolicy()\n",
    "    memory = SequentialMemory(limit=limit, window_length=1)\n",
    "    dqn = DQNAgent(model=model, memory=memory, policy=policy, \n",
    "                 nb_actions=actions, nb_steps_warmup=10, target_model_update=1e-2)\n",
    "    return dqn"
   ]
  },
  {
   "cell_type": "code",
   "execution_count": 24,
   "metadata": {
    "id": "870xsIGUfwKN"
   },
   "outputs": [],
   "source": [
    "del model\n",
    "model = build_model()"
   ]
  },
  {
   "cell_type": "code",
   "execution_count": 25,
   "metadata": {
    "id": "W1qXYA4rfwKN",
    "scrolled": true
   },
   "outputs": [],
   "source": [
    "dqn = build_agent(model, actions)\n",
    "dqn.compile(Adam(lr=1e-3), metrics=['mae'])"
   ]
  },
  {
   "cell_type": "code",
   "execution_count": 26,
   "metadata": {
    "colab": {
     "base_uri": "https://localhost:8080/"
    },
    "id": "ZSGpKi2KfwKN",
    "outputId": "fd8ad73b-8bc9-4a2f-d7f5-f78cb9d27486",
    "scrolled": true
   },
   "outputs": [
    {
     "name": "stdout",
     "output_type": "stream",
     "text": [
      "Training for 1000 steps ...\n",
      "Interval 1 (0 steps performed)\n"
     ]
    },
    {
     "name": "stderr",
     "output_type": "stream",
     "text": [
      "C:\\Users\\ryan_\\miniconda3\\lib\\site-packages\\tensorflow\\python\\keras\\engine\\training.py:2325: UserWarning: `Model.state_updates` will be removed in a future version. This property should not be used in TensorFlow 2.0, as `updates` are applied automatically.\n",
      "  warnings.warn('`Model.state_updates` will be removed in a future version. '\n"
     ]
    },
    {
     "name": "stdout",
     "output_type": "stream",
     "text": [
      "   11/10000 [..............................] - ETA: 11:05 - reward: -1.1861"
     ]
    },
    {
     "name": "stderr",
     "output_type": "stream",
     "text": [
      "C:\\Users\\ryan_\\miniconda3\\lib\\site-packages\\rl\\memory.py:40: UserWarning: Not enough entries to sample without replacement. Consider increasing your warm-up phase to avoid oversampling!\n",
      "  warnings.warn('Not enough entries to sample without replacement. Consider increasing your warm-up phase to avoid oversampling!')\n"
     ]
    },
    {
     "name": "stdout",
     "output_type": "stream",
     "text": [
      "   23/10000 [..............................] - ETA: 1:50:12 - reward: -2.3721done, took 18.371 seconds\n"
     ]
    }
   ],
   "source": [
    "tf.debugging.set_log_device_placement(True)\n",
    "with tf.device('/GPU:0'):\n",
    "    dqn.fit(drone_env, nb_steps=limit, visualize=True, verbose=1)\n",
    "drone_env.close()"
   ]
  },
  {
   "cell_type": "code",
   "execution_count": null,
   "metadata": {
    "colab": {
     "background_save": true
    },
    "id": "FvjMnwURjLG9"
   },
   "outputs": [],
   "source": [
    "# model.save('/content/drive/MyDrive/CNN_model_test')"
   ]
  },
  {
   "cell_type": "code",
   "execution_count": 28,
   "metadata": {
    "colab": {
     "background_save": true,
     "base_uri": "https://localhost:8080/"
    },
    "id": "gkZrEtflfwKO",
    "outputId": "381a11a1-4fd4-4639-ec31-2c6cee8386a8",
    "scrolled": false
   },
   "outputs": [
    {
     "name": "stdout",
     "output_type": "stream",
     "text": [
      "Testing for 5 episodes ...\n",
      "Episode 1: reward: -549.867, steps: 67\n",
      "Episode 2: reward: -2046.550, steps: 140\n",
      "Episode 3: reward: -6326.915, steps: 251\n",
      "Episode 4: reward: -100.197, steps: 1\n",
      "Episode 5: reward: -426.499, steps: 57\n",
      "-1890.005526479649\n"
     ]
    }
   ],
   "source": [
    "episodes = 5\n",
    "scores = dqn.test(drone_env, nb_episodes=episodes, visualize=True)\n",
    "print(np.mean(scores.history['episode_reward']))\n",
    "drone_env.close()"
   ]
  },
  {
   "cell_type": "code",
   "execution_count": 11,
   "metadata": {
    "colab": {
     "background_save": true
    },
    "id": "vUqeSVVtfwKO"
   },
   "outputs": [
    {
     "ename": "NameError",
     "evalue": "name 'drone_env' is not defined",
     "output_type": "error",
     "traceback": [
      "\u001b[1;31m---------------------------------------------------------------------------\u001b[0m",
      "\u001b[1;31mNameError\u001b[0m                                 Traceback (most recent call last)",
      "\u001b[1;32m<ipython-input-11-e14515707419>\u001b[0m in \u001b[0;36m<module>\u001b[1;34m\u001b[0m\n\u001b[1;32m----> 1\u001b[1;33m \u001b[0mdrone_env\u001b[0m\u001b[1;33m.\u001b[0m\u001b[0mclose\u001b[0m\u001b[1;33m(\u001b[0m\u001b[1;33m)\u001b[0m\u001b[1;33m\u001b[0m\u001b[1;33m\u001b[0m\u001b[0m\n\u001b[0m",
      "\u001b[1;31mNameError\u001b[0m: name 'drone_env' is not defined"
     ]
    }
   ],
   "source": [
    "drone_env.close()"
   ]
  },
  {
   "cell_type": "code",
   "execution_count": null,
   "metadata": {
    "colab": {
     "background_save": true
    },
    "id": "p4d_gMIPfwKO"
   },
   "outputs": [],
   "source": []
  }
 ],
 "metadata": {
  "accelerator": "GPU",
  "colab": {
   "collapsed_sections": [],
   "name": "OFFLINE_drone_rl_7 .ipynb",
   "provenance": []
  },
  "kernelspec": {
   "display_name": "Python 3",
   "language": "python",
   "name": "python3"
  },
  "language_info": {
   "codemirror_mode": {
    "name": "ipython",
    "version": 3
   },
   "file_extension": ".py",
   "mimetype": "text/x-python",
   "name": "python",
   "nbconvert_exporter": "python",
   "pygments_lexer": "ipython3",
   "version": "3.8.3"
  }
 },
 "nbformat": 4,
 "nbformat_minor": 1
}
